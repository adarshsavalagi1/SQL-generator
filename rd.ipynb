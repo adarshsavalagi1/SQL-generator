{
 "cells": [
  {
   "cell_type": "markdown",
   "metadata": {},
   "source": [
    "## Language Model"
   ]
  },
  {
   "cell_type": "code",
   "execution_count": 1,
   "metadata": {},
   "outputs": [],
   "source": [
    "import ollama"
   ]
  },
  {
   "cell_type": "code",
   "execution_count": 3,
   "metadata": {},
   "outputs": [
    {
     "data": {
      "text/plain": [
       "{'model': 'llama3.2:1b',\n",
       " 'created_at': '2024-10-28T15:32:09.4962438Z',\n",
       " 'message': {'role': 'assistant',\n",
       "  'content': \"The sky appears blue because of a phenomenon called Rayleigh scattering, named after the British physicist Lord Rayleigh, who first described it in the late 19th century. Here's what happens:\\n\\nWhen sunlight enters Earth's atmosphere, it encounters tiny molecules of gases such as nitrogen (N2) and oxygen (O2). These molecules are much smaller than the wavelength of light, so they scatter the light in all directions.\\n\\nThe shorter wavelengths of light, like blue and violet, are scattered more than the longer wavelengths, like red and orange. This is because the tiny molecules prefer to scatter the shorter wavelengths, which are traveling in a straight line, over the longer wavelengths that are deflected at an angle.\\n\\nAs a result, the blue light is distributed throughout the atmosphere, giving the sky its blue color. The reason we don't see more blue light than red light is that our eyes are less sensitive to the latter, and our brains tend to balance the two colors together to create the perception of a blue sky.\\n\\nIt's worth noting that the sky can appear different colors depending on the time of day, atmospheric conditions, and other factors. For example, during sunrise and sunset, the sky can take on hues of red, orange, and pink due to the scattering of light by atmospheric particles and dust.\"},\n",
       " 'done_reason': 'stop',\n",
       " 'done': True,\n",
       " 'total_duration': 11483301000,\n",
       " 'load_duration': 3073297200,\n",
       " 'prompt_eval_count': 31,\n",
       " 'prompt_eval_duration': 192702000,\n",
       " 'eval_count': 263,\n",
       " 'eval_duration': 8212276000}"
      ]
     },
     "execution_count": 3,
     "metadata": {},
     "output_type": "execute_result"
    }
   ],
   "source": [
    "ollama.chat(model='llama3.2:1b', messages=[\n",
    "  {\n",
    "    'role': 'user',\n",
    "    'content': 'Why is the sky blue?',\n",
    "  },\n",
    "])"
   ]
  },
  {
   "cell_type": "markdown",
   "metadata": {},
   "source": [
    "## Prompt Template"
   ]
  },
  {
   "cell_type": "code",
   "execution_count": 13,
   "metadata": {},
   "outputs": [
    {
     "name": "stdout",
     "output_type": "stream",
     "text": [
      "With Table Structure:\n",
      " \n",
      "Generate an SQL query based on the following information. If a table structure is provided, use it to make the SQL query as accurate as possible.\n",
      "\n",
      "**Description**: Retrieve the names and email addresses of all users who signed up in the last month and have an active status.\n",
      "\n",
      "**Table Structure**:\n",
      "- Table: users\n",
      "  - Columns: \n",
      "  id (INTEGER, Primary Key)\n",
      "  name (VARCHAR)\n",
      "  email (VARCHAR)\n",
      "  signup_date (DATE)\n",
      "  status (VARCHAR)\n",
      "\n",
      "\n",
      "\n",
      "### Instructions for SQL Generation:\n",
      "- **Database Tables and Columns**:\n",
      "  - Identify the tables and columns involved based on the description.\n",
      "  - If a table structure is provided, use it for precise column names and relationships.\n",
      "- **Conditions and Filters**:\n",
      "  - Outline conditions such as WHERE clauses, date ranges, comparisons, or value filters described in the text.\n",
      "- **Functions and Aggregations**:\n",
      "  - Specify aggregate functions (e.g., COUNT, SUM, AVG, MIN, MAX) if relevant.\n",
      "  - Use GROUP BY, HAVING, or ORDER BY clauses as needed.\n",
      "- **Output Formatting**:\n",
      "  - Apply any formatting requests, such as sorting by columns, limiting the number of results, or formatting dates.\n",
      "\n",
      "### Example Output\n",
      "Generate a well-structured SQL query that accurately reflects the description and any provided table structure.\n",
      "\n",
      "\n",
      "Without Table Structure:\n",
      " \n",
      "Generate an SQL query based on the following information. If a table structure is provided, use it to make the SQL query as accurate as possible.\n",
      "\n",
      "**Description**: Retrieve the names and email addresses of all users who signed up in the last month and have an active status.\n",
      "\n",
      "\n",
      "\n",
      "### Instructions for SQL Generation:\n",
      "- **Database Tables and Columns**:\n",
      "  - Identify the tables and columns involved based on the description.\n",
      "  - If a table structure is provided, use it for precise column names and relationships.\n",
      "- **Conditions and Filters**:\n",
      "  - Outline conditions such as WHERE clauses, date ranges, comparisons, or value filters described in the text.\n",
      "- **Functions and Aggregations**:\n",
      "  - Specify aggregate functions (e.g., COUNT, SUM, AVG, MIN, MAX) if relevant.\n",
      "  - Use GROUP BY, HAVING, or ORDER BY clauses as needed.\n",
      "- **Output Formatting**:\n",
      "  - Apply any formatting requests, such as sorting by columns, limiting the number of results, or formatting dates.\n",
      "\n",
      "### Example Output\n",
      "Generate a well-structured SQL query that accurately reflects the description and any provided table structure.\n",
      "\n"
     ]
    }
   ],
   "source": [
    "from langchain_core.prompts import PromptTemplate\n",
    "\n",
    "# Base template with placeholders for optional fields\n",
    "base_template = \"\"\"\n",
    "Generate an SQL query based on the following information. If a table structure is provided, use it to make the SQL query as accurate as possible.\n",
    "\n",
    "**Description**: {description}\n",
    "\n",
    "{table_section}\n",
    "\n",
    "### Instructions for SQL Generation:\n",
    "- **Database Tables and Columns**:\n",
    "  - Identify the tables and columns involved based on the description.\n",
    "  - If a table structure is provided, use it for precise column names and relationships.\n",
    "- **Conditions and Filters**:\n",
    "  - Outline conditions such as WHERE clauses, date ranges, comparisons, or value filters described in the text.\n",
    "- **Functions and Aggregations**:\n",
    "  - Specify aggregate functions (e.g., COUNT, SUM, AVG, MIN, MAX) if relevant.\n",
    "  - Use GROUP BY, HAVING, or ORDER BY clauses as needed.\n",
    "- **Output Formatting**:\n",
    "  - Apply any formatting requests, such as sorting by columns, limiting the number of results, or formatting dates.\n",
    "\n",
    "### Example Output\n",
    "Generate a well-structured SQL query that accurately reflects the description and any provided table structure.\n",
    "\"\"\"\n",
    "\n",
    "# Function to create the formatted prompt text based on optional fields\n",
    "def create_sql_prompt_template(description, table_name=None, table_structure=None):\n",
    "    # Set up table structure text if provided, otherwise leave it blank\n",
    "    table_section = (\n",
    "        f\"**Table Structure**:\\n- Table: {table_name}\\n  - Columns: {table_structure}\\n\"\n",
    "        if table_name and table_structure else \"\"\n",
    "    )\n",
    "    \n",
    "    # Create the final prompt template\n",
    "    prompt_template = PromptTemplate(\n",
    "        input_variables=[\"description\", \"table_section\"],\n",
    "        template=base_template\n",
    "    )\n",
    "    \n",
    "    # Format the prompt with the description and optional table section\n",
    "    return prompt_template.format(description=description, table_section=table_section)\n",
    "\n",
    "# Example usage with table structure provided\n",
    "user_description = \"Retrieve the names and email addresses of all users who signed up in the last month and have an active status.\"\n",
    "table_name = \"users\"\n",
    "table_structure = \"\"\"\n",
    "  id (INTEGER, Primary Key)\n",
    "  name (VARCHAR)\n",
    "  email (VARCHAR)\n",
    "  signup_date (DATE)\n",
    "  status (VARCHAR)\n",
    "\"\"\"\n",
    "\n",
    "# Generate prompt with table structure\n",
    "sql_prompt_with_structure = create_sql_prompt_template(\n",
    "    description=user_description,\n",
    "    table_name=table_name,\n",
    "    table_structure=table_structure\n",
    ")\n",
    "print(\"With Table Structure:\\n\", sql_prompt_with_structure)\n",
    "\n",
    "# Generate prompt without table structure\n",
    "sql_prompt_without_structure = create_sql_prompt_template(description=user_description)\n",
    "print(\"\\nWithout Table Structure:\\n\", sql_prompt_without_structure)\n"
   ]
  },
  {
   "cell_type": "code",
   "execution_count": null,
   "metadata": {},
   "outputs": [],
   "source": []
  }
 ],
 "metadata": {
  "kernelspec": {
   "display_name": "Python 3",
   "language": "python",
   "name": "python3"
  },
  "language_info": {
   "codemirror_mode": {
    "name": "ipython",
    "version": 3
   },
   "file_extension": ".py",
   "mimetype": "text/x-python",
   "name": "python",
   "nbconvert_exporter": "python",
   "pygments_lexer": "ipython3",
   "version": "3.10.0"
  }
 },
 "nbformat": 4,
 "nbformat_minor": 2
}
